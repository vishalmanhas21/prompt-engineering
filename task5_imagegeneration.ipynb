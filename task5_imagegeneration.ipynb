{
 "cells": [
  {
   "cell_type": "code",
   "execution_count": 1,
   "id": "4e682235",
   "metadata": {},
   "outputs": [
    {
     "name": "stdout",
     "output_type": "stream",
     "text": [
      "✅ Image displayed and saved as output.png\n"
     ]
    }
   ],
   "source": [
    "from huggingface_hub import InferenceClient\n",
    "import os\n",
    "\n",
    "# Set API key\n",
    "HF_API_KEY = os.getenv(\"hugging_Face_API\")\n",
    "\n",
    "client = InferenceClient(\n",
    "    provider=\"nebius\",\n",
    "    api_key=HF_API_KEY\n",
    ")\n",
    "\n",
    "prompt = input(\"Enter your image prompt (keep it under 200 characters): \").strip()\n",
    "MAX_PROMPT_LENGTH = 200\n",
    "if len(prompt) > MAX_PROMPT_LENGTH:\n",
    "    print(f\"⚠️ Prompt too long, trimming to {MAX_PROMPT_LENGTH} characters.\")\n",
    "    prompt = prompt[:MAX_PROMPT_LENGTH]\n",
    "\n",
    "# Only prompt, model supported by Nebius\n",
    "image = client.text_to_image(\n",
    "    prompt,\n",
    "    model=\"stabilityai/stable-diffusion-xl-base-1.0\"\n",
    ")\n",
    "\n",
    "image.show()\n",
    "image.save(\"output.png\")\n",
    "print(\"✅ Image displayed and saved as output.png\")\n"
   ]
  },
  {
   "cell_type": "code",
   "execution_count": null,
   "id": "22e50b01",
   "metadata": {},
   "outputs": [],
   "source": []
  }
 ],
 "metadata": {
  "kernelspec": {
   "display_name": "Python 3",
   "language": "python",
   "name": "python3"
  },
  "language_info": {
   "codemirror_mode": {
    "name": "ipython",
    "version": 3
   },
   "file_extension": ".py",
   "mimetype": "text/x-python",
   "name": "python",
   "nbconvert_exporter": "python",
   "pygments_lexer": "ipython3",
   "version": "3.12.4"
  }
 },
 "nbformat": 4,
 "nbformat_minor": 5
}
