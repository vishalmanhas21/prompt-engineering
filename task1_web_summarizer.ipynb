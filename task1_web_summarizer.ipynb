{
 "cells": [
  {
   "cell_type": "code",
   "execution_count": 2,
   "metadata": {},
   "outputs": [
    {
     "name": "stderr",
     "output_type": "stream",
     "text": [
      "\n",
      "[notice] A new release of pip is available: 25.1.1 -> 25.2\n",
      "[notice] To update, run: python.exe -m pip install --upgrade pip\n"
     ]
    },
    {
     "data": {
      "application/vnd.jupyter.widget-view+json": {
       "model_id": "fe5a1f9192494cce8789af9a8ab552c1",
       "version_major": 2,
       "version_minor": 0
      },
      "text/plain": [
       "Text(value='', description='🌐 URL:', layout=Layout(width='100%'), placeholder='Enter website URL...')"
      ]
     },
     "metadata": {},
     "output_type": "display_data"
    },
    {
     "data": {
      "application/vnd.jupyter.widget-view+json": {
       "model_id": "4b7a3af0895d4112b653cc0839daa08e",
       "version_major": 2,
       "version_minor": 0
      },
      "text/plain": [
       "Button(button_style='success', description='Summarize with Gemini', style=ButtonStyle())"
      ]
     },
     "metadata": {},
     "output_type": "display_data"
    },
    {
     "data": {
      "application/vnd.jupyter.widget-view+json": {
       "model_id": "fe38589a61224723aca520e4d12fdf7c",
       "version_major": 2,
       "version_minor": 0
      },
      "text/plain": [
       "Output()"
      ]
     },
     "metadata": {},
     "output_type": "display_data"
    }
   ],
   "source": [
    "!pip install -q google-generativeai requests beautifulsoup4 ipywidgets\n",
    "\n",
    "import google.generativeai as genai\n",
    "import requests\n",
    "from bs4 import BeautifulSoup\n",
    "import ipywidgets as widgets\n",
    "from IPython.display import display, HTML, clear_output\n",
    "\n",
    "# ✅ Configure Gemini API\n",
    "import os\n",
    "from dotenv import load_dotenv\n",
    "\n",
    "# Load variables from .env\n",
    "load_dotenv()\n",
    "\n",
    "# Get API key securely\n",
    "api_key = os.getenv(\"GEMINI_API_KEY\")\n",
    "\n",
    "if not api_key:\n",
    "    raise ValueError(\"⚠ GEMINI_API_KEY not found in environment variables!\")\n",
    "\n",
    "genai.configure(api_key=api_key)  # <-- Add this line\n",
    "\n",
    "# ✅ Function to extract clean text from website\n",
    "def extract_text_from_url(url):\n",
    "    try:\n",
    "        response = requests.get(url, timeout=10)\n",
    "        response.raise_for_status()  # Handle HTTP errors\n",
    "        soup = BeautifulSoup(response.content, 'html.parser')\n",
    "        for tag in soup([\"script\", \"style\"]):\n",
    "            tag.decompose()\n",
    "        return ' '.join(soup.stripped_strings)\n",
    "    except Exception as e:\n",
    "        return f\"❌ Error fetching content: {str(e)}\"\n",
    "\n",
    "# ✅ Summarize using Gemini Flash\n",
    "def summarize_with_gemini(text):\n",
    "    try:\n",
    "        model = genai.GenerativeModel(\"gemini-1.5-flash\")  # Correct model name\n",
    "        response = model.generate_content(\n",
    "            f\"You are a helpful summarizer. Summarize this website content in bullet points:\\n\\n{text[:8000]}\"\n",
    "        )\n",
    "        return response.text\n",
    "    except Exception as e:\n",
    "        return f\"⚠ Gemini API Error: {str(e)}\"\n",
    "\n",
    "# ✅ UI Widgets\n",
    "url_input = widgets.Text(\n",
    "    value='',\n",
    "    placeholder='Enter website URL...',\n",
    "    description='🌐 URL:',\n",
    "    layout=widgets.Layout(width='100%')\n",
    ")\n",
    "\n",
    "output = widgets.Output()\n",
    "\n",
    "# ✅ Button click handler\n",
    "def on_click(b):\n",
    "    with output:\n",
    "        clear_output()\n",
    "        print(\"🔄 Fetching and summarizing, please wait...\")\n",
    "        url = url_input.value.strip()\n",
    "        if not url.startswith(\"http\"):\n",
    "            url = \"http://\" + url\n",
    "\n",
    "        text = extract_text_from_url(url)\n",
    "        if text.startswith(\"❌ Error\"):\n",
    "            print(text)\n",
    "            return\n",
    "\n",
    "        summary = summarize_with_gemini(text)\n",
    "        display(HTML(f\"<h4>📄 Website Summary:</h4><p>{summary.replace(chr(10), '<br>')}</p>\"))\n",
    "\n",
    "# ✅ Display button\n",
    "button = widgets.Button(description=\"Summarize with Gemini\", button_style='success')\n",
    "button.on_click(on_click)\n",
    "\n",
    "# ✅ Display UI\n",
    "display(url_input, button, output)"
   ]
  },
  {
   "cell_type": "code",
   "execution_count": null,
   "metadata": {},
   "outputs": [],
   "source": []
  }
 ],
 "metadata": {
  "kernelspec": {
   "display_name": "Python 3",
   "language": "python",
   "name": "python3"
  },
  "language_info": {
   "codemirror_mode": {
    "name": "ipython",
    "version": 3
   },
   "file_extension": ".py",
   "mimetype": "text/x-python",
   "name": "python",
   "nbconvert_exporter": "python",
   "pygments_lexer": "ipython3",
   "version": "3.12.4"
  }
 },
 "nbformat": 4,
 "nbformat_minor": 2
}
