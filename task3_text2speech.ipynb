{
 "cells": [
  {
   "cell_type": "markdown",
   "id": "818e6e19",
   "metadata": {},
   "source": []
  },
  {
   "cell_type": "code",
   "execution_count": 7,
   "id": "6612dc50",
   "metadata": {},
   "outputs": [
    {
     "name": "stdout",
     "output_type": "stream",
     "text": [
      "0: Professor Shaposhnikov - 3f5fb9f1\n",
      "1: Maureen (Scared) - 251c9439\n",
      "2: Maureen (Sad) - bca7481c\n",
      "3: Mauren (Announcer) - e984fb89\n",
      "4: Maureen (Happy) - 91947e5c\n",
      "5: Maureen (Caring) - b15e550f\n",
      "6: Maureen (Angry) - 482babfc\n",
      "7: Carl Bishop (Scared) - eacbc44f\n",
      "8: Carl Bishop (Happy) - 99751e42\n",
      "9: Carl Bishop (Conversational) - 7f40ff35\n",
      "✅ Voice UUID selected: b15e550f\n",
      "✅ Project UUID selected: 59f8b516\n",
      "✅ Audio generated. Downloading and playing...\n"
     ]
    },
    {
     "data": {
      "text/html": [
       "\n",
       "                <audio  controls=\"controls\" autoplay=\"autoplay\">\n",
       "                    <source src=\"data:audio/mpeg;base64,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\" type=\"audio/mpeg\" />\n",
       "                    Your browser does not support the audio element.\n",
       "                </audio>\n",
       "              "
      ],
      "text/plain": [
       "<IPython.lib.display.Audio object>"
      ]
     },
     "metadata": {},
     "output_type": "display_data"
    }
   ],
   "source": [
    "import os\n",
    "from resemble import Resemble\n",
    "import requests\n",
    "from IPython.display import Audio, display\n",
    "from dotenv import load_dotenv\n",
    "\n",
    "# Load environment variables from .env file\n",
    "load_dotenv()\n",
    "\n",
    "# 🔐 Set your Resemble API key from environment variable\n",
    "RESEMBLE_API_KEY = os.getenv(\"resemble_APi\")\n",
    "Resemble.api_key(RESEMBLE_API_KEY)  # ✅ API key from environment\n",
    "\n",
    "# 🔍 Get the first available voice UUID\n",
    "voices = Resemble.v2.voices.all(1, 10)\n",
    "# Show all available voices\n",
    "for i, voice in enumerate(voices['items']):\n",
    "    print(f\"{i}: {voice['name']} - {voice['uuid']}\")\n",
    "selected_index = int(input(\"Enter the index of the voice you want to use: \"))\n",
    "voice_uuid = voices['items'][selected_index]['uuid']\n",
    "\n",
    "print(\"✅ Voice UUID selected:\", voice_uuid)\n",
    "\n",
    "# 📁 Get the first available project UUID\n",
    "projects = Resemble.v2.projects.all(1, 10)\n",
    "project_uuid = projects['items'][0]['uuid']\n",
    "print(\"✅ Project UUID selected:\", project_uuid)\n",
    "\n",
    "# 📝 Take text input\n",
    "text_input = input(\"Enter the text you want to convert to speech: \")\n",
    "\n",
    "# 🧠 Generate speech (synchronous)\n",
    "clip_response = Resemble.v2.clips.create_sync(\n",
    "    project_uuid=project_uuid,\n",
    "    voice_uuid=voice_uuid,\n",
    "    body=text_input,\n",
    "    title=\"ChatGPT_TTS_Clip\",\n",
    "    output_format=\"mp3\"\n",
    ")\n",
    "\n",
    "# 🎧 Handle response\n",
    "if clip_response.get('success'):\n",
    "    audio_url = clip_response['item']['audio_src']\n",
    "    print(\"✅ Audio generated. Downloading and playing...\")\n",
    "\n",
    "    # Download and save the MP3\n",
    "    audio_data = requests.get(audio_url)\n",
    "    with open(\"resemble_tts_output.mp3\", \"wb\") as f:\n",
    "        f.write(audio_data.content)\n",
    "\n",
    "    # Play in notebook\n",
    "    display(Audio(\"resemble_tts_output.mp3\", autoplay=True))\n",
    "else:\n",
    "    print(\"❌ Speech synthesis failed.\")\n",
    "    print(\"📄 Full API response:\")"
   ]
  },
  {
   "cell_type": "code",
   "execution_count": null,
   "id": "96945eeb",
   "metadata": {},
   "outputs": [],
   "source": []
  }
 ],
 "metadata": {
  "kernelspec": {
   "display_name": "Python 3",
   "language": "python",
   "name": "python3"
  },
  "language_info": {
   "codemirror_mode": {
    "name": "ipython",
    "version": 3
   },
   "file_extension": ".py",
   "mimetype": "text/x-python",
   "name": "python",
   "nbconvert_exporter": "python",
   "pygments_lexer": "ipython3",
   "version": "3.12.4"
  }
 },
 "nbformat": 4,
 "nbformat_minor": 5
}
