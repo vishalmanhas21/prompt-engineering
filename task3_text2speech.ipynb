{
 "cells": [
  {
   "cell_type": "code",
   "execution_count": 1,
   "id": "b24748ee",
   "metadata": {},
   "outputs": [
    {
     "name": "stdout",
     "output_type": "stream",
     "text": [
      "Collecting resemble\n",
      "  Downloading resemble-1.6.0-py3-none-any.whl.metadata (2.9 kB)\n",
      "Requirement already satisfied: requests in c:\\users\\victus\\appdata\\local\\programs\\python\\python312\\lib\\site-packages (2.32.4)\n",
      "Requirement already satisfied: IPython in c:\\users\\victus\\appdata\\local\\programs\\python\\python312\\lib\\site-packages (9.4.0)\n",
      "Requirement already satisfied: charset_normalizer<4,>=2 in c:\\users\\victus\\appdata\\local\\programs\\python\\python312\\lib\\site-packages (from requests) (3.4.2)\n",
      "Requirement already satisfied: idna<4,>=2.5 in c:\\users\\victus\\appdata\\local\\programs\\python\\python312\\lib\\site-packages (from requests) (3.10)\n",
      "Requirement already satisfied: urllib3<3,>=1.21.1 in c:\\users\\victus\\appdata\\local\\programs\\python\\python312\\lib\\site-packages (from requests) (2.5.0)\n",
      "Requirement already satisfied: certifi>=2017.4.17 in c:\\users\\victus\\appdata\\local\\programs\\python\\python312\\lib\\site-packages (from requests) (2025.7.14)\n",
      "Requirement already satisfied: colorama in c:\\users\\victus\\appdata\\local\\programs\\python\\python312\\lib\\site-packages (from IPython) (0.4.6)\n",
      "Requirement already satisfied: decorator in c:\\users\\victus\\appdata\\local\\programs\\python\\python312\\lib\\site-packages (from IPython) (5.2.1)\n",
      "Requirement already satisfied: ipython-pygments-lexers in c:\\users\\victus\\appdata\\local\\programs\\python\\python312\\lib\\site-packages (from IPython) (1.1.1)\n",
      "Requirement already satisfied: jedi>=0.16 in c:\\users\\victus\\appdata\\local\\programs\\python\\python312\\lib\\site-packages (from IPython) (0.19.2)\n",
      "Requirement already satisfied: matplotlib-inline in c:\\users\\victus\\appdata\\local\\programs\\python\\python312\\lib\\site-packages (from IPython) (0.1.7)\n",
      "Requirement already satisfied: prompt_toolkit<3.1.0,>=3.0.41 in c:\\users\\victus\\appdata\\local\\programs\\python\\python312\\lib\\site-packages (from IPython) (3.0.51)\n",
      "Requirement already satisfied: pygments>=2.4.0 in c:\\users\\victus\\appdata\\local\\programs\\python\\python312\\lib\\site-packages (from IPython) (2.19.2)\n",
      "Requirement already satisfied: stack_data in c:\\users\\victus\\appdata\\local\\programs\\python\\python312\\lib\\site-packages (from IPython) (0.6.3)\n",
      "Requirement already satisfied: traitlets>=5.13.0 in c:\\users\\victus\\appdata\\local\\programs\\python\\python312\\lib\\site-packages (from IPython) (5.14.3)\n",
      "Requirement already satisfied: parso<0.9.0,>=0.8.4 in c:\\users\\victus\\appdata\\local\\programs\\python\\python312\\lib\\site-packages (from jedi>=0.16->IPython) (0.8.4)\n",
      "Requirement already satisfied: wcwidth in c:\\users\\victus\\appdata\\local\\programs\\python\\python312\\lib\\site-packages (from prompt_toolkit<3.1.0,>=3.0.41->IPython) (0.2.13)\n",
      "Requirement already satisfied: executing>=1.2.0 in c:\\users\\victus\\appdata\\local\\programs\\python\\python312\\lib\\site-packages (from stack_data->IPython) (2.2.0)\n",
      "Requirement already satisfied: asttokens>=2.1.0 in c:\\users\\victus\\appdata\\local\\programs\\python\\python312\\lib\\site-packages (from stack_data->IPython) (3.0.0)\n",
      "Requirement already satisfied: pure-eval in c:\\users\\victus\\appdata\\local\\programs\\python\\python312\\lib\\site-packages (from stack_data->IPython) (0.2.3)\n",
      "Downloading resemble-1.6.0-py3-none-any.whl (8.0 kB)\n",
      "Installing collected packages: resemble\n",
      "Successfully installed resemble-1.6.0\n",
      "Note: you may need to restart the kernel to use updated packages.\n"
     ]
    },
    {
     "name": "stderr",
     "output_type": "stream",
     "text": [
      "\n",
      "[notice] A new release of pip is available: 24.0 -> 25.1.1\n",
      "[notice] To update, run: python.exe -m pip install --upgrade pip\n"
     ]
    }
   ],
   "source": [
    "pip install resemble requests IPython"
   ]
  },
  {
   "cell_type": "code",
   "execution_count": 3,
   "id": "0f788cc7",
   "metadata": {},
   "outputs": [
    {
     "name": "stdout",
     "output_type": "stream",
     "text": [
      "Requirement already satisfied: requests in c:\\users\\victus\\appdata\\local\\programs\\python\\python312\\lib\\site-packages (2.32.4)\n",
      "Requirement already satisfied: IPython in c:\\users\\victus\\appdata\\local\\programs\\python\\python312\\lib\\site-packages (9.4.0)\n",
      "Requirement already satisfied: charset_normalizer<4,>=2 in c:\\users\\victus\\appdata\\local\\programs\\python\\python312\\lib\\site-packages (from requests) (3.4.2)\n",
      "Requirement already satisfied: idna<4,>=2.5 in c:\\users\\victus\\appdata\\local\\programs\\python\\python312\\lib\\site-packages (from requests) (3.10)\n",
      "Requirement already satisfied: urllib3<3,>=1.21.1 in c:\\users\\victus\\appdata\\local\\programs\\python\\python312\\lib\\site-packages (from requests) (2.5.0)\n",
      "Requirement already satisfied: certifi>=2017.4.17 in c:\\users\\victus\\appdata\\local\\programs\\python\\python312\\lib\\site-packages (from requests) (2025.7.14)\n",
      "Requirement already satisfied: colorama in c:\\users\\victus\\appdata\\local\\programs\\python\\python312\\lib\\site-packages (from IPython) (0.4.6)\n",
      "Requirement already satisfied: decorator in c:\\users\\victus\\appdata\\local\\programs\\python\\python312\\lib\\site-packages (from IPython) (5.2.1)\n",
      "Requirement already satisfied: ipython-pygments-lexers in c:\\users\\victus\\appdata\\local\\programs\\python\\python312\\lib\\site-packages (from IPython) (1.1.1)\n",
      "Requirement already satisfied: jedi>=0.16 in c:\\users\\victus\\appdata\\local\\programs\\python\\python312\\lib\\site-packages (from IPython) (0.19.2)\n",
      "Requirement already satisfied: matplotlib-inline in c:\\users\\victus\\appdata\\local\\programs\\python\\python312\\lib\\site-packages (from IPython) (0.1.7)\n",
      "Requirement already satisfied: prompt_toolkit<3.1.0,>=3.0.41 in c:\\users\\victus\\appdata\\local\\programs\\python\\python312\\lib\\site-packages (from IPython) (3.0.51)\n",
      "Requirement already satisfied: pygments>=2.4.0 in c:\\users\\victus\\appdata\\local\\programs\\python\\python312\\lib\\site-packages (from IPython) (2.19.2)\n",
      "Requirement already satisfied: stack_data in c:\\users\\victus\\appdata\\local\\programs\\python\\python312\\lib\\site-packages (from IPython) (0.6.3)\n",
      "Requirement already satisfied: traitlets>=5.13.0 in c:\\users\\victus\\appdata\\local\\programs\\python\\python312\\lib\\site-packages (from IPython) (5.14.3)\n",
      "Requirement already satisfied: parso<0.9.0,>=0.8.4 in c:\\users\\victus\\appdata\\local\\programs\\python\\python312\\lib\\site-packages (from jedi>=0.16->IPython) (0.8.4)\n",
      "Requirement already satisfied: wcwidth in c:\\users\\victus\\appdata\\local\\programs\\python\\python312\\lib\\site-packages (from prompt_toolkit<3.1.0,>=3.0.41->IPython) (0.2.13)\n",
      "Requirement already satisfied: executing>=1.2.0 in c:\\users\\victus\\appdata\\local\\programs\\python\\python312\\lib\\site-packages (from stack_data->IPython) (2.2.0)\n",
      "Requirement already satisfied: asttokens>=2.1.0 in c:\\users\\victus\\appdata\\local\\programs\\python\\python312\\lib\\site-packages (from stack_data->IPython) (3.0.0)\n",
      "Requirement already satisfied: pure-eval in c:\\users\\victus\\appdata\\local\\programs\\python\\python312\\lib\\site-packages (from stack_data->IPython) (0.2.3)\n",
      "Note: you may need to restart the kernel to use updated packages.\n"
     ]
    },
    {
     "name": "stderr",
     "output_type": "stream",
     "text": [
      "\n",
      "[notice] A new release of pip is available: 24.0 -> 25.1.1\n",
      "[notice] To update, run: python.exe -m pip install --upgrade pip\n"
     ]
    }
   ],
   "source": [
    "pip install requests IPython"
   ]
  },
  {
   "cell_type": "code",
   "execution_count": 15,
   "id": "250a3d7f",
   "metadata": {},
   "outputs": [
    {
     "name": "stdout",
     "output_type": "stream",
     "text": [
      "0: Professor Shaposhnikov - 3f5fb9f1\n",
      "1: Maureen (Scared) - 251c9439\n",
      "2: Maureen (Sad) - bca7481c\n",
      "3: Mauren (Announcer) - e984fb89\n",
      "4: Maureen (Happy) - 91947e5c\n",
      "5: Maureen (Caring) - b15e550f\n",
      "6: Maureen (Angry) - 482babfc\n",
      "7: Carl Bishop (Scared) - eacbc44f\n",
      "8: Carl Bishop (Happy) - 99751e42\n",
      "9: Carl Bishop (Conversational) - 7f40ff35\n",
      "✅ Voice UUID selected: eacbc44f\n",
      "✅ Project UUID selected: 59f8b516\n",
      "✅ Audio generated. Downloading and playing...\n"
     ]
    },
    {
     "data": {
      "text/html": [
       "\n",
       "                <audio  controls=\"controls\" autoplay=\"autoplay\">\n",
       "                    <source src=\"data:audio/mpeg;base64,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\" type=\"audio/mpeg\" />\n",
       "                    Your browser does not support the audio element.\n",
       "                </audio>\n",
       "              "
      ],
      "text/plain": [
       "<IPython.lib.display.Audio object>"
      ]
     },
     "metadata": {},
     "output_type": "display_data"
    }
   ],
   "source": [
    "# ✅ Install these packages before running (only once)\n",
    "# !pip install resemble requests IPython\n",
    "\n",
    "from resemble import Resemble\n",
    "import requests\n",
    "from IPython.display import Audio, display\n",
    "\n",
    "# 🔐 Set your Resemble API key\n",
    "Resemble.api_key(\"83nzH1UzlczbJfYWkcZQrQtt\")  # ✅ Updated API key\n",
    "\n",
    "# 🔍 Get the first available voice UUID\n",
    "voices = Resemble.v2.voices.all(1, 10)\n",
    "# Show all available voices\n",
    "for i, voice in enumerate(voices['items']):\n",
    "    print(f\"{i}: {voice['name']} - {voice['uuid']}\")\n",
    "selected_index = int(input(\"Enter the index of the voice you want to use: \"))\n",
    "voice_uuid = voices['items'][selected_index]['uuid']\n",
    "\n",
    "print(\"✅ Voice UUID selected:\", voice_uuid)\n",
    "\n",
    "# 📁 Get the first available project UUID\n",
    "projects = Resemble.v2.projects.all(1, 10)\n",
    "project_uuid = projects['items'][0]['uuid']\n",
    "print(\"✅ Project UUID selected:\", project_uuid)\n",
    "\n",
    "# 📝 Take text input\n",
    "text_input = input(\"Enter the text you want to convert to speech: \")\n",
    "\n",
    "# 🧠 Generate speech (synchronous)\n",
    "clip_response = Resemble.v2.clips.create_sync(\n",
    "    project_uuid=project_uuid,\n",
    "    voice_uuid=voice_uuid,\n",
    "    body=text_input,\n",
    "    title=\"ChatGPT_TTS_Clip\",\n",
    "    output_format=\"mp3\"\n",
    ")\n",
    "\n",
    "# 🎧 Handle response\n",
    "if clip_response.get('success'):\n",
    "    audio_url = clip_response['item']['audio_src']\n",
    "    print(\"✅ Audio generated. Downloading and playing...\")\n",
    "\n",
    "    # Download and save the MP3\n",
    "    audio_data = requests.get(audio_url)\n",
    "    with open(\"resemble_tts_output.mp3\", \"wb\") as f:\n",
    "        f.write(audio_data.content)\n",
    "\n",
    "    # Play in notebook\n",
    "    display(Audio(\"resemble_tts_output.mp3\", autoplay=True))\n",
    "else:\n",
    "    print(\"❌ Speech synthesis failed.\")\n",
    "    print(\"📄 Full API response:\", clip_response)\n"
   ]
  },
  {
   "cell_type": "code",
   "execution_count": null,
   "id": "cb27c42a",
   "metadata": {},
   "outputs": [],
   "source": []
  },
  {
   "cell_type": "code",
   "execution_count": null,
   "id": "e172fbf0",
   "metadata": {},
   "outputs": [],
   "source": []
  }
 ],
 "metadata": {
  "kernelspec": {
   "display_name": "Python 3",
   "language": "python",
   "name": "python3"
  },
  "language_info": {
   "codemirror_mode": {
    "name": "ipython",
    "version": 3
   },
   "file_extension": ".py",
   "mimetype": "text/x-python",
   "name": "python",
   "nbconvert_exporter": "python",
   "pygments_lexer": "ipython3",
   "version": "3.12.4"
  }
 },
 "nbformat": 4,
 "nbformat_minor": 5
}
