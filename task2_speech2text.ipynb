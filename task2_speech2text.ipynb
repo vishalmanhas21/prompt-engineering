{
 "cells": [
  {
   "cell_type": "code",
   "execution_count": 2,
   "id": "f5e5d3cc",
   "metadata": {},
   "outputs": [
    {
     "name": "stdout",
     "output_type": "stream",
     "text": [
      "Requirement already satisfied: sounddevice in c:\\users\\victus\\appdata\\local\\programs\\python\\python312\\lib\\site-packages (0.5.2)\n",
      "Requirement already satisfied: scipy in c:\\users\\victus\\appdata\\local\\programs\\python\\python312\\lib\\site-packages (1.16.1)\n",
      "Requirement already satisfied: requests in c:\\users\\victus\\appdata\\local\\programs\\python\\python312\\lib\\site-packages (2.32.4)\n",
      "Requirement already satisfied: CFFI>=1.0 in c:\\users\\victus\\appdata\\local\\programs\\python\\python312\\lib\\site-packages (from sounddevice) (1.17.1)\n",
      "Requirement already satisfied: numpy<2.6,>=1.25.2 in c:\\users\\victus\\appdata\\local\\programs\\python\\python312\\lib\\site-packages (from scipy) (2.3.2)\n",
      "Requirement already satisfied: charset_normalizer<4,>=2 in c:\\users\\victus\\appdata\\local\\programs\\python\\python312\\lib\\site-packages (from requests) (3.4.2)\n",
      "Requirement already satisfied: idna<4,>=2.5 in c:\\users\\victus\\appdata\\local\\programs\\python\\python312\\lib\\site-packages (from requests) (3.10)\n",
      "Requirement already satisfied: urllib3<3,>=1.21.1 in c:\\users\\victus\\appdata\\local\\programs\\python\\python312\\lib\\site-packages (from requests) (2.5.0)\n",
      "Requirement already satisfied: certifi>=2017.4.17 in c:\\users\\victus\\appdata\\local\\programs\\python\\python312\\lib\\site-packages (from requests) (2025.7.14)\n",
      "Requirement already satisfied: pycparser in c:\\users\\victus\\appdata\\local\\programs\\python\\python312\\lib\\site-packages (from CFFI>=1.0->sounddevice) (2.22)\n",
      "🎤 Recording for 5 seconds...\n",
      "✅ Recording saved as mic_recording.wav\n",
      "🔁 Sending audio to Hugging Face API...\n",
      "\n",
      "📝 Transcribed Text:\n",
      "  Hello.\n"
     ]
    }
   ],
   "source": [
    "# ✅ Install required packages (Run this only once)\n",
    "!pip install sounddevice scipy requests\n",
    "\n",
    "# ✅ Import libraries\n",
    "import os\n",
    "from dotenv import load_dotenv\n",
    "\n",
    "# Load variables from .env\n",
    "load_dotenv()\n",
    "\n",
    "import sounddevice as sd\n",
    "from scipy.io.wavfile import write\n",
    "import requests\n",
    "\n",
    "# ✅ Your Hugging Face API Key (replace if needed)\n",
    "# If you have stored the key in environment variables, keep os.getenv.\n",
    "# Otherwise, just paste it directly like: HF_API_KEY = \"hf_xxxxx\"\n",
    "HF_API_KEY = os.getenv(\"hugging_Face_API\")  # or replace with your key: \"hf_xxxxx\"\n",
    "\n",
    "# ✅ Function: Record audio\n",
    "def record_audio(duration=5, filename=\"mic_recording.wav\"):\n",
    "    print(f\"🎤 Recording for {duration} seconds...\")\n",
    "    fs = 16000  # Sample rate\n",
    "    audio = sd.rec(int(duration * fs), samplerate=fs, channels=1, dtype='int16')\n",
    "    sd.wait()\n",
    "    write(filename, fs, audio)\n",
    "    print(f\"✅ Recording saved as {filename}\")\n",
    "    return filename\n",
    "\n",
    "# ✅ Function: Transcribe audio using Hugging Face Whisper\n",
    "def transcribe_with_huggingface(audio_path):\n",
    "    url = \"https://api-inference.huggingface.co/models/openai/whisper-large-v3\"  # ✅ Updated model URL\n",
    "    headers = {\"Authorization\": f\"Bearer {HF_API_KEY}\", \"Content-Type\": \"audio/wav\"}  # ✅ Set Content-Type\n",
    "\n",
    "    with open(audio_path, \"rb\") as f:\n",
    "        audio_data = f.read()  # ✅ Read audio data\n",
    "\n",
    "        print(\"🔁 Sending audio to Hugging Face API...\")\n",
    "        response = requests.post(url, headers=headers, data=audio_data)  # ✅ Send raw data\n",
    "\n",
    "    if response.status_code == 200:\n",
    "        result = response.json()\n",
    "        if \"text\" in result:\n",
    "            return result[\"text\"]\n",
    "        else:\n",
    "            print(\"⚠ No transcription found in response:\", result)\n",
    "            return None\n",
    "    else:\n",
    "        print(\"❌ Hugging Face Error:\", response.status_code)\n",
    "        print(response.text)\n",
    "        return None\n",
    "\n",
    "# ✅ Main program: Record & transcribe\n",
    "file_path = record_audio(duration=5)\n",
    "transcribed_text = transcribe_with_huggingface(file_path)\n",
    "\n",
    "# ✅ Output\n",
    "if transcribed_text:\n",
    "    print(\"\\n📝 Transcribed Text:\\n\", transcribed_text)\n",
    "else:\n",
    "    print(\"\\n⚠ Transcription failed.\")\n"
   ]
  },
  {
   "cell_type": "code",
   "execution_count": null,
   "id": "417cdbe1",
   "metadata": {},
   "outputs": [],
   "source": []
  }
 ],
 "metadata": {
  "kernelspec": {
   "display_name": "Python 3",
   "language": "python",
   "name": "python3"
  },
  "language_info": {
   "codemirror_mode": {
    "name": "ipython",
    "version": 3
   },
   "file_extension": ".py",
   "mimetype": "text/x-python",
   "name": "python",
   "nbconvert_exporter": "python",
   "pygments_lexer": "ipython3",
   "version": "3.12.4"
  }
 },
 "nbformat": 4,
 "nbformat_minor": 5
}
