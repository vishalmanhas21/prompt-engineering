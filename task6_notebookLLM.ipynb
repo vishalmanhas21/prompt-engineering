{
 "cells": [
  {
   "cell_type": "code",
   "execution_count": 1,
   "id": "3b778e6d",
   "metadata": {},
   "outputs": [
    {
     "name": "stdout",
     "output_type": "stream",
     "text": [
      "Requirement already satisfied: ipywidgets in c:\\users\\victus\\appdata\\local\\programs\\python\\python312\\lib\\site-packages (8.1.7)\n",
      "Requirement already satisfied: PyMuPDF in c:\\users\\victus\\appdata\\local\\programs\\python\\python312\\lib\\site-packages (1.26.3)\n",
      "Requirement already satisfied: google-generativeai in c:\\users\\victus\\appdata\\local\\programs\\python\\python312\\lib\\site-packages (0.8.5)\n",
      "Requirement already satisfied: scikit-learn in c:\\users\\victus\\appdata\\local\\programs\\python\\python312\\lib\\site-packages (1.7.1)\n",
      "Requirement already satisfied: comm>=0.1.3 in c:\\users\\victus\\appdata\\local\\programs\\python\\python312\\lib\\site-packages (from ipywidgets) (0.2.2)\n",
      "Requirement already satisfied: ipython>=6.1.0 in c:\\users\\victus\\appdata\\local\\programs\\python\\python312\\lib\\site-packages (from ipywidgets) (9.4.0)\n",
      "Requirement already satisfied: traitlets>=4.3.1 in c:\\users\\victus\\appdata\\local\\programs\\python\\python312\\lib\\site-packages (from ipywidgets) (5.14.3)\n",
      "Requirement already satisfied: widgetsnbextension~=4.0.14 in c:\\users\\victus\\appdata\\local\\programs\\python\\python312\\lib\\site-packages (from ipywidgets) (4.0.14)\n",
      "Requirement already satisfied: jupyterlab_widgets~=3.0.15 in c:\\users\\victus\\appdata\\local\\programs\\python\\python312\\lib\\site-packages (from ipywidgets) (3.0.15)\n",
      "Requirement already satisfied: google-ai-generativelanguage==0.6.15 in c:\\users\\victus\\appdata\\local\\programs\\python\\python312\\lib\\site-packages (from google-generativeai) (0.6.15)\n",
      "Requirement already satisfied: google-api-core in c:\\users\\victus\\appdata\\local\\programs\\python\\python312\\lib\\site-packages (from google-generativeai) (2.25.1)\n",
      "Requirement already satisfied: google-api-python-client in c:\\users\\victus\\appdata\\local\\programs\\python\\python312\\lib\\site-packages (from google-generativeai) (2.177.0)\n",
      "Requirement already satisfied: google-auth>=2.15.0 in c:\\users\\victus\\appdata\\local\\programs\\python\\python312\\lib\\site-packages (from google-generativeai) (2.40.3)\n",
      "Requirement already satisfied: protobuf in c:\\users\\victus\\appdata\\local\\programs\\python\\python312\\lib\\site-packages (from google-generativeai) (5.29.5)\n",
      "Requirement already satisfied: pydantic in c:\\users\\victus\\appdata\\local\\programs\\python\\python312\\lib\\site-packages (from google-generativeai) (2.11.7)\n",
      "Requirement already satisfied: tqdm in c:\\users\\victus\\appdata\\local\\programs\\python\\python312\\lib\\site-packages (from google-generativeai) (4.67.1)\n",
      "Requirement already satisfied: typing-extensions in c:\\users\\victus\\appdata\\local\\programs\\python\\python312\\lib\\site-packages (from google-generativeai) (4.14.1)\n",
      "Requirement already satisfied: proto-plus<2.0.0dev,>=1.22.3 in c:\\users\\victus\\appdata\\local\\programs\\python\\python312\\lib\\site-packages (from google-ai-generativelanguage==0.6.15->google-generativeai) (1.26.1)\n",
      "Requirement already satisfied: googleapis-common-protos<2.0.0,>=1.56.2 in c:\\users\\victus\\appdata\\local\\programs\\python\\python312\\lib\\site-packages (from google-api-core->google-generativeai) (1.70.0)\n",
      "Requirement already satisfied: requests<3.0.0,>=2.18.0 in c:\\users\\victus\\appdata\\local\\programs\\python\\python312\\lib\\site-packages (from google-api-core->google-generativeai) (2.32.4)\n",
      "Requirement already satisfied: grpcio<2.0.0,>=1.33.2 in c:\\users\\victus\\appdata\\local\\programs\\python\\python312\\lib\\site-packages (from google-api-core[grpc]!=2.0.*,!=2.1.*,!=2.10.*,!=2.2.*,!=2.3.*,!=2.4.*,!=2.5.*,!=2.6.*,!=2.7.*,!=2.8.*,!=2.9.*,<3.0.0dev,>=1.34.1->google-ai-generativelanguage==0.6.15->google-generativeai) (1.73.1)\n",
      "Requirement already satisfied: grpcio-status<2.0.0,>=1.33.2 in c:\\users\\victus\\appdata\\local\\programs\\python\\python312\\lib\\site-packages (from google-api-core[grpc]!=2.0.*,!=2.1.*,!=2.10.*,!=2.2.*,!=2.3.*,!=2.4.*,!=2.5.*,!=2.6.*,!=2.7.*,!=2.8.*,!=2.9.*,<3.0.0dev,>=1.34.1->google-ai-generativelanguage==0.6.15->google-generativeai) (1.71.2)\n",
      "Requirement already satisfied: cachetools<6.0,>=2.0.0 in c:\\users\\victus\\appdata\\local\\programs\\python\\python312\\lib\\site-packages (from google-auth>=2.15.0->google-generativeai) (5.5.2)\n",
      "Requirement already satisfied: pyasn1-modules>=0.2.1 in c:\\users\\victus\\appdata\\local\\programs\\python\\python312\\lib\\site-packages (from google-auth>=2.15.0->google-generativeai) (0.4.2)\n",
      "Requirement already satisfied: rsa<5,>=3.1.4 in c:\\users\\victus\\appdata\\local\\programs\\python\\python312\\lib\\site-packages (from google-auth>=2.15.0->google-generativeai) (4.9.1)\n",
      "Requirement already satisfied: charset_normalizer<4,>=2 in c:\\users\\victus\\appdata\\local\\programs\\python\\python312\\lib\\site-packages (from requests<3.0.0,>=2.18.0->google-api-core->google-generativeai) (3.4.2)\n",
      "Requirement already satisfied: idna<4,>=2.5 in c:\\users\\victus\\appdata\\local\\programs\\python\\python312\\lib\\site-packages (from requests<3.0.0,>=2.18.0->google-api-core->google-generativeai) (3.10)\n",
      "Requirement already satisfied: urllib3<3,>=1.21.1 in c:\\users\\victus\\appdata\\local\\programs\\python\\python312\\lib\\site-packages (from requests<3.0.0,>=2.18.0->google-api-core->google-generativeai) (2.5.0)\n",
      "Requirement already satisfied: certifi>=2017.4.17 in c:\\users\\victus\\appdata\\local\\programs\\python\\python312\\lib\\site-packages (from requests<3.0.0,>=2.18.0->google-api-core->google-generativeai) (2025.7.14)\n",
      "Requirement already satisfied: pyasn1>=0.1.3 in c:\\users\\victus\\appdata\\local\\programs\\python\\python312\\lib\\site-packages (from rsa<5,>=3.1.4->google-auth>=2.15.0->google-generativeai) (0.6.1)\n",
      "Requirement already satisfied: numpy>=1.22.0 in c:\\users\\victus\\appdata\\local\\programs\\python\\python312\\lib\\site-packages (from scikit-learn) (2.3.2)\n",
      "Requirement already satisfied: scipy>=1.8.0 in c:\\users\\victus\\appdata\\local\\programs\\python\\python312\\lib\\site-packages (from scikit-learn) (1.16.1)\n",
      "Requirement already satisfied: joblib>=1.2.0 in c:\\users\\victus\\appdata\\local\\programs\\python\\python312\\lib\\site-packages (from scikit-learn) (1.5.1)\n",
      "Requirement already satisfied: threadpoolctl>=3.1.0 in c:\\users\\victus\\appdata\\local\\programs\\python\\python312\\lib\\site-packages (from scikit-learn) (3.6.0)\n",
      "Requirement already satisfied: colorama in c:\\users\\victus\\appdata\\local\\programs\\python\\python312\\lib\\site-packages (from ipython>=6.1.0->ipywidgets) (0.4.6)\n",
      "Requirement already satisfied: decorator in c:\\users\\victus\\appdata\\local\\programs\\python\\python312\\lib\\site-packages (from ipython>=6.1.0->ipywidgets) (5.2.1)\n",
      "Requirement already satisfied: ipython-pygments-lexers in c:\\users\\victus\\appdata\\local\\programs\\python\\python312\\lib\\site-packages (from ipython>=6.1.0->ipywidgets) (1.1.1)\n",
      "Requirement already satisfied: jedi>=0.16 in c:\\users\\victus\\appdata\\local\\programs\\python\\python312\\lib\\site-packages (from ipython>=6.1.0->ipywidgets) (0.19.2)\n",
      "Requirement already satisfied: matplotlib-inline in c:\\users\\victus\\appdata\\local\\programs\\python\\python312\\lib\\site-packages (from ipython>=6.1.0->ipywidgets) (0.1.7)\n",
      "Requirement already satisfied: prompt_toolkit<3.1.0,>=3.0.41 in c:\\users\\victus\\appdata\\local\\programs\\python\\python312\\lib\\site-packages (from ipython>=6.1.0->ipywidgets) (3.0.51)\n",
      "Requirement already satisfied: pygments>=2.4.0 in c:\\users\\victus\\appdata\\local\\programs\\python\\python312\\lib\\site-packages (from ipython>=6.1.0->ipywidgets) (2.19.2)\n",
      "Requirement already satisfied: stack_data in c:\\users\\victus\\appdata\\local\\programs\\python\\python312\\lib\\site-packages (from ipython>=6.1.0->ipywidgets) (0.6.3)\n",
      "Requirement already satisfied: wcwidth in c:\\users\\victus\\appdata\\local\\programs\\python\\python312\\lib\\site-packages (from prompt_toolkit<3.1.0,>=3.0.41->ipython>=6.1.0->ipywidgets) (0.2.13)\n",
      "Requirement already satisfied: parso<0.9.0,>=0.8.4 in c:\\users\\victus\\appdata\\local\\programs\\python\\python312\\lib\\site-packages (from jedi>=0.16->ipython>=6.1.0->ipywidgets) (0.8.4)\n",
      "Requirement already satisfied: httplib2<1.0.0,>=0.19.0 in c:\\users\\victus\\appdata\\local\\programs\\python\\python312\\lib\\site-packages (from google-api-python-client->google-generativeai) (0.22.0)\n",
      "Requirement already satisfied: google-auth-httplib2<1.0.0,>=0.2.0 in c:\\users\\victus\\appdata\\local\\programs\\python\\python312\\lib\\site-packages (from google-api-python-client->google-generativeai) (0.2.0)\n",
      "Requirement already satisfied: uritemplate<5,>=3.0.1 in c:\\users\\victus\\appdata\\local\\programs\\python\\python312\\lib\\site-packages (from google-api-python-client->google-generativeai) (4.2.0)\n",
      "Requirement already satisfied: pyparsing!=3.0.0,!=3.0.1,!=3.0.2,!=3.0.3,<4,>=2.4.2 in c:\\users\\victus\\appdata\\local\\programs\\python\\python312\\lib\\site-packages (from httplib2<1.0.0,>=0.19.0->google-api-python-client->google-generativeai) (3.2.3)\n",
      "Requirement already satisfied: annotated-types>=0.6.0 in c:\\users\\victus\\appdata\\local\\programs\\python\\python312\\lib\\site-packages (from pydantic->google-generativeai) (0.7.0)\n",
      "Requirement already satisfied: pydantic-core==2.33.2 in c:\\users\\victus\\appdata\\local\\programs\\python\\python312\\lib\\site-packages (from pydantic->google-generativeai) (2.33.2)\n",
      "Requirement already satisfied: typing-inspection>=0.4.0 in c:\\users\\victus\\appdata\\local\\programs\\python\\python312\\lib\\site-packages (from pydantic->google-generativeai) (0.4.1)\n",
      "Requirement already satisfied: executing>=1.2.0 in c:\\users\\victus\\appdata\\local\\programs\\python\\python312\\lib\\site-packages (from stack_data->ipython>=6.1.0->ipywidgets) (2.2.0)\n",
      "Requirement already satisfied: asttokens>=2.1.0 in c:\\users\\victus\\appdata\\local\\programs\\python\\python312\\lib\\site-packages (from stack_data->ipython>=6.1.0->ipywidgets) (3.0.0)\n",
      "Requirement already satisfied: pure-eval in c:\\users\\victus\\appdata\\local\\programs\\python\\python312\\lib\\site-packages (from stack_data->ipython>=6.1.0->ipywidgets) (0.2.3)\n",
      "Note: you may need to restart the kernel to use updated packages.\n"
     ]
    }
   ],
   "source": [
    "pip install ipywidgets PyMuPDF google-generativeai scikit-learn"
   ]
  },
  {
   "cell_type": "code",
   "execution_count": 1,
   "id": "eac58f6e",
   "metadata": {},
   "outputs": [
    {
     "data": {
      "application/vnd.jupyter.widget-view+json": {
       "model_id": "7a9e7254b28644aeb1c1d8a5a57562b5",
       "version_major": 2,
       "version_minor": 0
      },
      "text/plain": [
       "FileUpload(value=(), accept='.pdf', description='Upload', multiple=True)"
      ]
     },
     "metadata": {},
     "output_type": "display_data"
    }
   ],
   "source": [
    "import ipywidgets as widgets\n",
    "from IPython.display import display\n",
    "\n",
    "uploader = widgets.FileUpload(accept='.pdf', multiple=True)\n",
    "display(uploader)"
   ]
  },
  {
   "cell_type": "code",
   "execution_count": 2,
   "id": "b134f7a9",
   "metadata": {},
   "outputs": [
    {
     "name": "stdout",
     "output_type": "stream",
     "text": [
      "✅ Extracted text from 1 PDF(s).\n"
     ]
    }
   ],
   "source": [
    "import tempfile\n",
    "import fitz  # PyMuPDF\n",
    "\n",
    "combined_pdf_text = \"\"\n",
    "\n",
    "# ✅ Automatically handles dict or list formats\n",
    "uploaded_files = uploader.value\n",
    "\n",
    "if uploaded_files:\n",
    "    file_list = list(uploaded_files.values()) if isinstance(uploaded_files, dict) else uploaded_files\n",
    "\n",
    "    for uploaded_file in file_list:\n",
    "        file_data = uploaded_file['content']\n",
    "\n",
    "        # Save uploaded file temporarily\n",
    "        with tempfile.NamedTemporaryFile(delete=False, suffix=\".pdf\") as tmp:\n",
    "            tmp.write(file_data)\n",
    "            tmp_path = tmp.name\n",
    "\n",
    "        # Extract text from this PDF\n",
    "        with fitz.open(tmp_path) as doc:\n",
    "            for page in doc:\n",
    "                combined_pdf_text += page.get_text()\n",
    "\n",
    "    print(f\"✅ Extracted text from {len(file_list)} PDF(s).\")\n",
    "else:\n",
    "    print(\"⚠ No files uploaded.\")\n"
   ]
  },
  {
   "cell_type": "code",
   "execution_count": 3,
   "id": "a04903b3",
   "metadata": {},
   "outputs": [],
   "source": [
    "from sklearn.feature_extraction.text import TfidfVectorizer\n",
    "from sklearn.metrics.pairwise import cosine_similarity\n",
    "import numpy as np\n",
    "\n",
    "def chunk_text(text, chunk_size=200):\n",
    "    words = text.split()\n",
    "    return [' '.join(words[i:i + chunk_size]) for i in range(0, len(words), chunk_size)]\n",
    "\n",
    "def retrieve_context(query, chunks, top_k=3):\n",
    "    vectorizer = TfidfVectorizer().fit(chunks + [query])\n",
    "    vectors = vectorizer.transform(chunks + [query])\n",
    "    query_vector = vectors[-1]\n",
    "    chunk_vectors = vectors[:-1]\n",
    "    similarities = cosine_similarity(query_vector, chunk_vectors).flatten()\n",
    "    top_indices = np.argsort(similarities)[-top_k:][::-1]\n",
    "    return \"\\n\".join([chunks[i] for i in top_indices])"
   ]
  },
  {
   "cell_type": "code",
   "execution_count": 4,
   "id": "7e7e4b87",
   "metadata": {},
   "outputs": [],
   "source": [
    "from sklearn.feature_extraction.text import TfidfVectorizer\n",
    "from sklearn.metrics.pairwise import cosine_similarity\n",
    "import numpy as np\n",
    "\n",
    "def chunk_text(text, chunk_size=200):\n",
    "    words = text.split()\n",
    "    return [' '.join(words[i:i + chunk_size]) for i in range(0, len(words), chunk_size)]\n",
    "\n",
    "def retrieve_context(query, chunks, top_k=3):\n",
    "    vectorizer = TfidfVectorizer().fit(chunks + [query])\n",
    "    vectors = vectorizer.transform(chunks + [query])\n",
    "    query_vector = vectors[-1]\n",
    "    chunk_vectors = vectors[:-1]\n",
    "    similarities = cosine_similarity(query_vector, chunk_vectors).flatten()\n",
    "    top_indices = np.argsort(similarities)[-top_k:][::-1]\n",
    "    return \"\\n\".join([chunks[i] for i in top_indices])"
   ]
  },
  {
   "cell_type": "code",
   "execution_count": 5,
   "id": "8238ea55",
   "metadata": {},
   "outputs": [],
   "source": [
    "import google.generativeai as genai\n",
    "import os\n",
    "\n",
    "api_key = os.getenv(\"GEMINI_API_KEY\")  # 🔁 Replace this!\n",
    "genai.configure(api_key=api_key)\n",
    "\n",
    "model = genai.GenerativeModel(\"gemini-2.0-flash\")  # Use the latest Gemini model\n",
    "\n",
    "def ask_gemini(query, context):\n",
    "    if not query.strip():\n",
    "        return \"⚠ No query provided.\"\n",
    "    if not context.strip():\n",
    "        return \"⚠ No context retrieved from PDF.\"\n",
    "\n",
    "    prompt = f\"\"\"\n",
    "You are a helpful assistant.\n",
    "\n",
    "Given the context from documents:\n",
    "---------------------\n",
    "{context}\n",
    "---------------------\n",
    "\n",
    "Answer this query:\n",
    "\"{query}\"\n",
    "\n",
    "Be concise and use only the given context.\n",
    "\"\"\"\n",
    "    try:\n",
    "        response = model.generate_content(prompt)\n",
    "        if hasattr(response, 'text') and response.text:\n",
    "            return response.text\n",
    "        else:\n",
    "            return \"⚠ Gemini returned no response text.\"\n",
    "    except Exception as e:\n",
    "        return f\"❌ Gemini API error: {str(e)}\"\n"
   ]
  },
  {
   "cell_type": "code",
   "execution_count": 6,
   "id": "c3623564",
   "metadata": {},
   "outputs": [
    {
     "name": "stdout",
     "output_type": "stream",
     "text": [
      "✅ You can now ask questions about the uploaded PDFs.\n",
      "💬 Type 'exit' to stop.\n",
      "\n",
      "\n",
      "📚 Relevant Context:\n",
      "\n",
      "any book using its unique ID.‬ ‭•‬ ‭Instantly see detailed information about the book.‬ ‭4.‬‭Issue Books‬‭:‬ ‭•‬ ‭Mark a book as‬‭Issued‬‭when it is borrowed.‬ ‭•‬ ‭Automatically update its status in the library records.‬ ‭5.‬‭Return Books‬‭:‬ ‭•‬‭Update a book’s status to‬‭Available‬‭when it is returned.‬ ‭2‬ ‭6.‬‭Exit System‬‭:‬ ‭•‬ ‭Leave the system at any time with a polite goodbye.‬ ‭Why Use This System‬ ‭•‬‭User-Friendly Interface‬‭:‬‭Intuitive menu navigation for a seamless experience.‬ ‭•‬‭Reliable Data Management‬‭:‬‭Persistent storage of book details in a file (library.txt).‬ ‭•‬‭Quick Access‬‭:‬‭Instantly search, update, or add books without delays.‬ ‭•‬‭Scalable‬‭:‬‭Suitable for managing large collections.‬ ‭Behind the Scenes:‬ ‭•‬‭Interactive Input/Output‬‭:‬ ‭–‬ ‭Uses cin and getline for efficient input collection.‬ ‭–‬ ‭Handles input transitions using cin.ignore.‬ ‭•‬‭File Management‬‭:‬ ‭–‬ ‭Saves and retrieves book data from library.txt.‬ ‭–‬ ‭Ensures persistent data storage using fstream.‬ ‭•‬‭Error Handling‬‭:‬ ‭–‬ ‭Alerts users about invalid operations (e.g., book not found).‬ ‭–‬ ‭Prevents unintended actions like issuing an already-issued book.‬ ‭How to Interact with the System‬ ‭3‬ ‭1.‬‭Launch‬‭the‬‭Program‬‭:‬‭Run‬‭the‬‭program‬‭to‬‭view‬‭the‬‭main‬‭menu,‬‭which‬‭offers‬‭clear‬ ‭instructions for interaction.‬ ‭2.‬‭Choose‬‭an‬‭Option‬‭:‬‭Select‬‭an‬‭action‬‭by‬‭entering‬‭the‬‭corresponding‬‭number‬‭from‬‭the‬ ‭menu (e.g., 1 for adding a book).‬ ‭3.‬‭Follow‬‭Prompts‬‭:‬‭Provide‬‭details‬‭as‬‭requested,‬‭and‬‭the‬‭system‬‭will‬‭process‬‭your‬‭input‬ ‭immediately.‬ ‭4.‬‭Enjoy‬ ‭the‬ ‭Results‬‭:‬ ‭Whether‬ ‭adding,‬ ‭searching,‬ ‭or‬ ‭updating‬ ‭a‬ ‭book,‬ ‭see‬ ‭the‬ ‭results‬ ‭displayed instantly!‬ ‭4‬ ‭PROJECT CODE WITH DESCRIPTION‬ ‭#include<iostream>‬ ‭#include<fstream>‬ ‭#include<string>‬ ‭using namespace std;‬ ‭//\n",
      "‭handle‬ ‭large‬ ‭collections,‬ ‭making‬ ‭it‬ ‭suitable‬ ‭for‬ ‭libraries‬ ‭of‬ ‭various sizes.‬ ‭-‬‭Error Prevention:‬‭Validations ensure proper handling of data, minimizing human errors.‬ ‭This‬‭project‬‭demonstrates‬‭the‬‭practical‬‭application‬‭of‬‭file‬‭handling,‬‭object-oriented‬‭programming‬ ‭(OOP),‬‭and‬‭interactive‬‭user‬‭interfaces‬‭in‬‭C++.‬‭It‬‭highlights‬‭the‬‭importance‬‭of‬‭robust‬‭design‬‭and‬ ‭error handling in creating systems that are both functional and user-centric.‬ ‭In‬ ‭conclusion,‬ ‭the‬ ‭Library‬ ‭Management‬ ‭System‬ ‭is‬ ‭a‬ ‭step‬ ‭forward‬ ‭in‬ ‭digitalizing‬ ‭library‬ ‭operations,‬‭fostering‬‭efficiency,‬‭and‬‭offering‬‭a‬‭scalable‬‭foundation‬‭for‬‭future‬‭enhancements.‬‭By‬ ‭integrating‬‭more‬‭advanced‬‭features‬‭such‬‭as‬‭database‬‭support‬‭or‬‭a‬‭graphical‬‭user‬‭interface,‬‭this‬ ‭system could evolve into a comprehensive library solution.‬ ‭17‬ ‭REFERENCE‬ ‭●‬ ‭Object Oriented Programming with C++ by E. Balagurusamy.‬ ‭●‬ ‭Programming with Ansi C++ by Bhushan Trivedi.‬ ‭●‬ ‭https://www.iitms.co.in/library-management-system/‬ ‭●‬ ‭https://www.geeksforgeeks.org/library-management-system/‬ ‭●‬ ‭Open AI.‬ ‭………………..‬‭THANK YOU‬‭………………..‬ ‭18‬\n",
      "‭LIBRARY MANAGEMENT SYSTEM‬ ‭Object Oriented Programming Lab Project Report‬ ‭Submitted in Partial Fulfillment of the Requirements for the Award of the Degree‬ ‭of Bachelor of Technology‬ ‭BACHELOR OF TECHNOLOGY‬ ‭(COMPUTER SCIENCE AND ENGINEERING)‬ ‭Submitted by: Submitted to:‬ ‭Sugandhi Rajput (2302690) Prof. Manpreet Kaur Mand‬ ‭Vikramaditya Singh (2302709)‬ ‭Vishal Manhas (2302710)‬ ‭DEPARTMENT OF COMPUTER SCIENCE AND ENGINEERING‬ ‭GURU NANAK DEV ENGINEERING COLLEGE‬ ‭LUDHIANA, 141006‬ ‭TABLE OF CONTENTS‬ ‭CONTENTS‬ ‭PAGE NO‬ ‭Introduction to the Project‬ ‭2‬ ‭Project Code with Description‬ ‭3-14‬ ‭Project Demonstration and Screen Shots‬ ‭15-17‬ ‭Conclusion‬ ‭18-19‬ ‭Reference‬ ‭20‬ ‭1‬ ‭INTRODUCTION TO THE PROJECT‬ ‭A‬ ‭Library‬ ‭Management‬ ‭System‬ ‭is‬ ‭a‬ ‭software‬ ‭solution‬ ‭designed‬ ‭to‬ ‭efficiently‬ ‭manage‬ ‭and‬ ‭organize‬ ‭library‬ ‭resources.‬ ‭It‬ ‭automates‬ ‭various‬ ‭tasks‬ ‭such‬ ‭as‬ ‭keeping‬ ‭track‬ ‭of‬ ‭book‬ ‭titles,‬ ‭managing‬ ‭author‬‭information,‬‭and‬‭handling‬‭the‬‭process‬‭of‬‭issuing‬‭or‬‭withdrawing‬‭books.‬‭The‬ ‭system‬‭maintains‬‭a‬‭catalog‬‭of‬‭books,‬‭providing‬‭details‬‭like‬‭the‬‭title‬‭and‬‭author’s‬‭name,‬‭which‬ ‭allows‬‭users‬‭to‬‭easily‬‭search‬‭for‬‭and‬‭locate‬‭books‬‭of‬‭interest.‬‭When‬‭a‬‭member‬‭wants‬‭to‬‭issue‬‭a‬ ‭book,‬‭the‬‭system‬‭records‬‭essential‬‭information‬‭such‬‭as‬‭the‬‭date‬‭of‬‭issue,‬‭the‬‭due‬‭date‬‭for‬‭return,‬ ‭and‬ ‭the‬‭member’s‬‭details.‬‭Similarly,‬‭the‬‭system‬‭keeps‬‭track‬‭of‬‭book‬‭withdrawals,‬‭whether‬‭for‬ ‭checkouts‬‭by‬‭members,‬‭removal‬‭from‬‭the‬‭collection,‬‭or‬‭archiving‬‭purposes.‬‭By‬‭automating‬‭these‬ ‭processes,‬ ‭the‬ ‭Library‬ ‭Management‬ ‭System‬ ‭streamlines‬ ‭operations,‬ ‭improves‬ ‭efficiency,‬ ‭and‬ ‭makes it simpler for both librarians and users to access and manage library resources.‬ ‭Features:‬ ‭1.‬‭Add New Books‬‭:‬ ‭•‬ ‭Quickly add books by entering details like ID, title, and author.‬ ‭•‬ ‭All newly added books are marked as‬‭Available‬‭.‬ ‭2.‬‭Display All Books‬‭:‬ ‭•‬‭View all books in the library, including their ID, title, author, and status.‬ ‭3.‬‭Search for Books by ID‬‭:‬ ‭•‬ ‭Locate\n",
      "\n",
      "🤖 Gemini's Answer:\n",
      "\n",
      "The Library Management System automates library tasks such as adding, searching, issuing, and returning books. It uses file management for persistent data storage and provides a user-friendly interface with error handling. Users interact via a menu, following prompts to perform actions.\n",
      "\n",
      "--------------------------------------------------------------------------------\n",
      "👋 Exiting. Done!\n"
     ]
    }
   ],
   "source": [
    "chunks = chunk_text(combined_pdf_text)\n",
    "\n",
    "print(\"✅ You can now ask questions about the uploaded PDFs.\")\n",
    "print(\"💬 Type 'exit' to stop.\\n\")\n",
    "\n",
    "while True:\n",
    "    user_query = input(\"🔎 Your question: \").strip()\n",
    "    if user_query.lower() == \"exit\":\n",
    "        print(\"👋 Exiting. Done!\")\n",
    "        break\n",
    "\n",
    "    context = retrieve_context(user_query, chunks)\n",
    "\n",
    "    print(\"\\n📚 Relevant Context:\\n\")\n",
    "    print(context)\n",
    "\n",
    "    print(\"\\n🤖 Gemini's Answer:\\n\")\n",
    "    answer = ask_gemini(user_query, context)\n",
    "    print(answer)\n",
    "    print(\"-\" * 80)"
   ]
  },
  {
   "cell_type": "code",
   "execution_count": null,
   "id": "259365c3",
   "metadata": {},
   "outputs": [],
   "source": []
  }
 ],
 "metadata": {
  "kernelspec": {
   "display_name": "Python 3",
   "language": "python",
   "name": "python3"
  },
  "language_info": {
   "codemirror_mode": {
    "name": "ipython",
    "version": 3
   },
   "file_extension": ".py",
   "mimetype": "text/x-python",
   "name": "python",
   "nbconvert_exporter": "python",
   "pygments_lexer": "ipython3",
   "version": "3.12.4"
  }
 },
 "nbformat": 4,
 "nbformat_minor": 5
}
